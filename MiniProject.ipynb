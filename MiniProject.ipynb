{
 "cells": [
  {
   "cell_type": "markdown",
   "metadata": {},
   "source": [
    "<p style=\"font-family: Arial; font-size:2.2em;color:purple; font-style:bold\"><br>\n",
    "An analysis on the trending genre of movies over a period of 20 years</p><br>\n",
    "\n",
    "**MiniProject:**\n",
    "\n",
    "This mini project aims at identifying the trend of movie genres betwreen the period of year 1995 to 2019\n",
    "\n",
    "**Dataset Used:**\n",
    " https://grouplens.org/datasets/movielens/\n",
    " \n",
    "**Additional Recommended Resources:**\n",
    "* *pandas* Documentation: http://pandas.pydata.org/pandas-docs/stable/\n",
    "* *Python for Data Analysis* by Wes McKinney\n",
    "* *Python Data Science Handbook* by Jake VanderPlas"
   ]
  },
  {
   "cell_type": "code",
   "execution_count": 2,
   "metadata": {},
   "outputs": [],
   "source": [
    "import pandas as pd\n",
    "import numpy as np\n",
    "import matplotlib.pyplot as plt"
   ]
  },
  {
   "cell_type": "markdown",
   "metadata": {},
   "source": [
    "Read data from data sources movies.csv and ratings.csv "
   ]
  },
  {
   "cell_type": "code",
   "execution_count": 3,
   "metadata": {},
   "outputs": [],
   "source": [
    "data_movies = pd.read_csv(\"../Datasets/movielens/movies.csv\", sep=',')\n",
    "data_rating = pd.read_csv(\"../Datasets/movielens/ratings.csv\", sep=',')"
   ]
  },
  {
   "cell_type": "markdown",
   "metadata": {},
   "source": [
    "List columns from the data frames. Keep only the relevent columns"
   ]
  },
  {
   "cell_type": "code",
   "execution_count": 4,
   "metadata": {},
   "outputs": [
    {
     "name": "stdout",
     "output_type": "stream",
     "text": [
      "Index(['movieId', 'title', 'genres'], dtype='object')\n",
      "Index(['movieId', 'rating', 'timestamp'], dtype='object')\n"
     ]
    }
   ],
   "source": [
    "print(data_movies.columns)\n",
    "print(data_rating.columns)"
   ]
  },
  {
   "cell_type": "markdown",
   "metadata": {},
   "source": [
    "In order to plot a graph between diffrent genres over the years, we need mean of ratings per genre plotted against timestamp.\n",
    "The column movieId is common between the two data frames, hence can be used as an anchor to joing the two data frames. Let's first clean up the data frames before joining."
   ]
  },
  {
   "cell_type": "code",
   "execution_count": 5,
   "metadata": {},
   "outputs": [],
   "source": [
    "#data_movies['year'] = data_movies['title'].str.extract('.*\\\\((.*)\\\\).*', expand=True)\n",
    "data_rating['year'] = pd.to_datetime(data_rating['timestamp'], unit='s').dt.year"
   ]
  },
  {
   "cell_type": "code",
   "execution_count": 6,
   "metadata": {},
   "outputs": [
    {
     "name": "stdout",
     "output_type": "stream",
     "text": [
      "Index(['movieId', 'title', 'genres'], dtype='object')\n",
      "Index(['movieId', 'rating', 'timestamp', 'year'], dtype='object')\n"
     ]
    }
   ],
   "source": [
    "print(data_movies.columns)\n",
    "print(data_rating.columns)"
   ]
  },
  {
   "cell_type": "code",
   "execution_count": 7,
   "metadata": {},
   "outputs": [
    {
     "name": "stdout",
     "output_type": "stream",
     "text": [
      "Index(['movieId', 'rating', 'year'], dtype='object')\n"
     ]
    }
   ],
   "source": [
    "del data_rating['timestamp']\n",
    "print(data_rating.columns)"
   ]
  },
  {
   "cell_type": "code",
   "execution_count": 8,
   "metadata": {},
   "outputs": [
    {
     "name": "stdout",
     "output_type": "stream",
     "text": [
      "Index(['movieId', 'genres'], dtype='object')\n"
     ]
    }
   ],
   "source": [
    "del data_movies['title']\n",
    "print(data_movies.columns)"
   ]
  },
  {
   "cell_type": "markdown",
   "metadata": {},
   "source": [
    "Our two dataframes are ready with only the relevent information. Lets clean them for any null values."
   ]
  },
  {
   "cell_type": "code",
   "execution_count": 9,
   "metadata": {},
   "outputs": [
    {
     "data": {
      "text/plain": [
       "movieId    False\n",
       "rating     False\n",
       "year       False\n",
       "dtype: bool"
      ]
     },
     "execution_count": 9,
     "metadata": {},
     "output_type": "execute_result"
    }
   ],
   "source": [
    "data_rating = data_rating.dropna()\n",
    "data_rating.isnull().any()"
   ]
  },
  {
   "cell_type": "code",
   "execution_count": 10,
   "metadata": {},
   "outputs": [
    {
     "data": {
      "text/plain": [
       "movieId    False\n",
       "genres     False\n",
       "dtype: bool"
      ]
     },
     "execution_count": 10,
     "metadata": {},
     "output_type": "execute_result"
    }
   ],
   "source": [
    "data_movies = data_movies.dropna()\n",
    "data_movies.isnull().any()"
   ]
  },
  {
   "cell_type": "markdown",
   "metadata": {},
   "source": [
    "Our data frames now have only the relevent data. Time to merge them and see what shape and columns they hold."
   ]
  },
  {
   "cell_type": "code",
   "execution_count": 11,
   "metadata": {},
   "outputs": [],
   "source": [
    "merged_data = pd.merge(data_movies,data_rating, on = 'movieId', how='inner')"
   ]
  },
  {
   "cell_type": "code",
   "execution_count": 12,
   "metadata": {},
   "outputs": [
    {
     "name": "stdout",
     "output_type": "stream",
     "text": [
      "(1048575, 4)\n"
     ]
    },
    {
     "data": {
      "text/html": [
       "<div>\n",
       "<style scoped>\n",
       "    .dataframe tbody tr th:only-of-type {\n",
       "        vertical-align: middle;\n",
       "    }\n",
       "\n",
       "    .dataframe tbody tr th {\n",
       "        vertical-align: top;\n",
       "    }\n",
       "\n",
       "    .dataframe thead th {\n",
       "        text-align: right;\n",
       "    }\n",
       "</style>\n",
       "<table border=\"1\" class=\"dataframe\">\n",
       "  <thead>\n",
       "    <tr style=\"text-align: right;\">\n",
       "      <th></th>\n",
       "      <th>movieId</th>\n",
       "      <th>genres</th>\n",
       "      <th>rating</th>\n",
       "      <th>year</th>\n",
       "    </tr>\n",
       "  </thead>\n",
       "  <tbody>\n",
       "    <tr>\n",
       "      <th>0</th>\n",
       "      <td>1</td>\n",
       "      <td>Adventure|Animation|Children|Comedy|Fantasy</td>\n",
       "      <td>3.5</td>\n",
       "      <td>2006</td>\n",
       "    </tr>\n",
       "    <tr>\n",
       "      <th>1</th>\n",
       "      <td>1</td>\n",
       "      <td>Adventure|Animation|Children|Comedy|Fantasy</td>\n",
       "      <td>4.0</td>\n",
       "      <td>2015</td>\n",
       "    </tr>\n",
       "    <tr>\n",
       "      <th>2</th>\n",
       "      <td>1</td>\n",
       "      <td>Adventure|Animation|Children|Comedy|Fantasy</td>\n",
       "      <td>3.0</td>\n",
       "      <td>2019</td>\n",
       "    </tr>\n",
       "    <tr>\n",
       "      <th>3</th>\n",
       "      <td>1</td>\n",
       "      <td>Adventure|Animation|Children|Comedy|Fantasy</td>\n",
       "      <td>4.0</td>\n",
       "      <td>1997</td>\n",
       "    </tr>\n",
       "    <tr>\n",
       "      <th>4</th>\n",
       "      <td>1</td>\n",
       "      <td>Adventure|Animation|Children|Comedy|Fantasy</td>\n",
       "      <td>4.0</td>\n",
       "      <td>1998</td>\n",
       "    </tr>\n",
       "  </tbody>\n",
       "</table>\n",
       "</div>"
      ],
      "text/plain": [
       "   movieId                                       genres  rating  year\n",
       "0        1  Adventure|Animation|Children|Comedy|Fantasy     3.5  2006\n",
       "1        1  Adventure|Animation|Children|Comedy|Fantasy     4.0  2015\n",
       "2        1  Adventure|Animation|Children|Comedy|Fantasy     3.0  2019\n",
       "3        1  Adventure|Animation|Children|Comedy|Fantasy     4.0  1997\n",
       "4        1  Adventure|Animation|Children|Comedy|Fantasy     4.0  1998"
      ]
     },
     "execution_count": 12,
     "metadata": {},
     "output_type": "execute_result"
    }
   ],
   "source": [
    "print(merged_data.shape)\n",
    "merged_data.head()"
   ]
  },
  {
   "cell_type": "code",
   "execution_count": 13,
   "metadata": {},
   "outputs": [
    {
     "data": {
      "text/plain": [
       "movieId    False\n",
       "genres     False\n",
       "rating     False\n",
       "year       False\n",
       "dtype: bool"
      ]
     },
     "execution_count": 13,
     "metadata": {},
     "output_type": "execute_result"
    }
   ],
   "source": [
    "merged_data.isnull().any()"
   ]
  },
  {
   "cell_type": "code",
   "execution_count": 14,
   "metadata": {},
   "outputs": [
    {
     "name": "stdout",
     "output_type": "stream",
     "text": [
      "Index(['movieId', 'genres', 'rating', 'year'], dtype='object')\n"
     ]
    },
    {
     "data": {
      "text/html": [
       "<div>\n",
       "<style scoped>\n",
       "    .dataframe tbody tr th:only-of-type {\n",
       "        vertical-align: middle;\n",
       "    }\n",
       "\n",
       "    .dataframe tbody tr th {\n",
       "        vertical-align: top;\n",
       "    }\n",
       "\n",
       "    .dataframe thead th {\n",
       "        text-align: right;\n",
       "    }\n",
       "</style>\n",
       "<table border=\"1\" class=\"dataframe\">\n",
       "  <thead>\n",
       "    <tr style=\"text-align: right;\">\n",
       "      <th></th>\n",
       "      <th>movieId</th>\n",
       "      <th>genres</th>\n",
       "      <th>rating</th>\n",
       "      <th>year</th>\n",
       "    </tr>\n",
       "  </thead>\n",
       "  <tbody>\n",
       "    <tr>\n",
       "      <th>0</th>\n",
       "      <td>1</td>\n",
       "      <td>Adventure|Animation|Children|Comedy|Fantasy</td>\n",
       "      <td>3.5</td>\n",
       "      <td>2006</td>\n",
       "    </tr>\n",
       "    <tr>\n",
       "      <th>1</th>\n",
       "      <td>1</td>\n",
       "      <td>Adventure|Animation|Children|Comedy|Fantasy</td>\n",
       "      <td>4.0</td>\n",
       "      <td>2015</td>\n",
       "    </tr>\n",
       "    <tr>\n",
       "      <th>2</th>\n",
       "      <td>1</td>\n",
       "      <td>Adventure|Animation|Children|Comedy|Fantasy</td>\n",
       "      <td>3.0</td>\n",
       "      <td>2019</td>\n",
       "    </tr>\n",
       "    <tr>\n",
       "      <th>3</th>\n",
       "      <td>1</td>\n",
       "      <td>Adventure|Animation|Children|Comedy|Fantasy</td>\n",
       "      <td>4.0</td>\n",
       "      <td>1997</td>\n",
       "    </tr>\n",
       "    <tr>\n",
       "      <th>4</th>\n",
       "      <td>1</td>\n",
       "      <td>Adventure|Animation|Children|Comedy|Fantasy</td>\n",
       "      <td>4.0</td>\n",
       "      <td>1998</td>\n",
       "    </tr>\n",
       "  </tbody>\n",
       "</table>\n",
       "</div>"
      ],
      "text/plain": [
       "   movieId                                       genres  rating  year\n",
       "0        1  Adventure|Animation|Children|Comedy|Fantasy     3.5  2006\n",
       "1        1  Adventure|Animation|Children|Comedy|Fantasy     4.0  2015\n",
       "2        1  Adventure|Animation|Children|Comedy|Fantasy     3.0  2019\n",
       "3        1  Adventure|Animation|Children|Comedy|Fantasy     4.0  1997\n",
       "4        1  Adventure|Animation|Children|Comedy|Fantasy     4.0  1998"
      ]
     },
     "execution_count": 14,
     "metadata": {},
     "output_type": "execute_result"
    }
   ],
   "source": [
    "print(merged_data.columns)\n",
    "merged_data.head()"
   ]
  },
  {
   "cell_type": "code",
   "execution_count": 15,
   "metadata": {},
   "outputs": [
    {
     "name": "stdout",
     "output_type": "stream",
     "text": [
      "2019\n",
      "1995\n"
     ]
    }
   ],
   "source": [
    "max_year = merged_data['year'].max()\n",
    "min_year = merged_data['year'].min()\n",
    "print(max_year)\n",
    "print(min_year)"
   ]
  },
  {
   "cell_type": "markdown",
   "metadata": {},
   "source": [
    "Now, since we need to list all genres, this can be achieved by identifying the longest string in the 'genres' column. Lets split the genres column to list all genres indivuidually."
   ]
  },
  {
   "cell_type": "code",
   "execution_count": 16,
   "metadata": {},
   "outputs": [],
   "source": [
    "expanded_genre = merged_data['genres'].str.split('|', expand =True)"
   ]
  },
  {
   "cell_type": "code",
   "execution_count": 17,
   "metadata": {},
   "outputs": [
    {
     "data": {
      "text/plain": [
       "(1048575, 10)"
      ]
     },
     "execution_count": 17,
     "metadata": {},
     "output_type": "execute_result"
    }
   ],
   "source": [
    "expanded_genre.shape"
   ]
  },
  {
   "cell_type": "markdown",
   "metadata": {},
   "source": [
    "Since, not all rows from the expanded genres dataframe have the max string, hence multiple rows might have null values. Lets extract the row with no null values. I.e. a record with all genres."
   ]
  },
  {
   "cell_type": "code",
   "execution_count": 18,
   "metadata": {},
   "outputs": [],
   "source": [
    "NonNullColumns = expanded_genre.dropna()"
   ]
  },
  {
   "cell_type": "code",
   "execution_count": 19,
   "metadata": {},
   "outputs": [
    {
     "data": {
      "text/html": [
       "<div>\n",
       "<style scoped>\n",
       "    .dataframe tbody tr th:only-of-type {\n",
       "        vertical-align: middle;\n",
       "    }\n",
       "\n",
       "    .dataframe tbody tr th {\n",
       "        vertical-align: top;\n",
       "    }\n",
       "\n",
       "    .dataframe thead th {\n",
       "        text-align: right;\n",
       "    }\n",
       "</style>\n",
       "<table border=\"1\" class=\"dataframe\">\n",
       "  <thead>\n",
       "    <tr style=\"text-align: right;\">\n",
       "      <th></th>\n",
       "      <th>0</th>\n",
       "      <th>1</th>\n",
       "      <th>2</th>\n",
       "      <th>3</th>\n",
       "      <th>4</th>\n",
       "      <th>5</th>\n",
       "      <th>6</th>\n",
       "      <th>7</th>\n",
       "      <th>8</th>\n",
       "      <th>9</th>\n",
       "    </tr>\n",
       "  </thead>\n",
       "  <tbody>\n",
       "    <tr>\n",
       "      <th>940222</th>\n",
       "      <td>Action</td>\n",
       "      <td>Adventure</td>\n",
       "      <td>Comedy</td>\n",
       "      <td>Crime</td>\n",
       "      <td>Drama</td>\n",
       "      <td>Film-Noir</td>\n",
       "      <td>Horror</td>\n",
       "      <td>Mystery</td>\n",
       "      <td>Thriller</td>\n",
       "      <td>Western</td>\n",
       "    </tr>\n",
       "  </tbody>\n",
       "</table>\n",
       "</div>"
      ],
      "text/plain": [
       "             0          1       2      3      4          5       6        7  \\\n",
       "940222  Action  Adventure  Comedy  Crime  Drama  Film-Noir  Horror  Mystery   \n",
       "\n",
       "               8        9  \n",
       "940222  Thriller  Western  "
      ]
     },
     "execution_count": 19,
     "metadata": {},
     "output_type": "execute_result"
    }
   ],
   "source": [
    "NonNullColumns.head(1)"
   ]
  },
  {
   "cell_type": "markdown",
   "metadata": {},
   "source": [
    "Since movieId 940222 has 10 genres, hence max number of genres we have is 10 and are listed above."
   ]
  },
  {
   "cell_type": "code",
   "execution_count": 20,
   "metadata": {},
   "outputs": [
    {
     "data": {
      "text/plain": [
       "Index(['movieId', 'genres', 'rating', 'year'], dtype='object')"
      ]
     },
     "execution_count": 20,
     "metadata": {},
     "output_type": "execute_result"
    }
   ],
   "source": [
    "expanded_genre = 0\n",
    "merged_data.columns"
   ]
  },
  {
   "cell_type": "code",
   "execution_count": 21,
   "metadata": {},
   "outputs": [
    {
     "data": {
      "text/html": [
       "<div>\n",
       "<style scoped>\n",
       "    .dataframe tbody tr th:only-of-type {\n",
       "        vertical-align: middle;\n",
       "    }\n",
       "\n",
       "    .dataframe tbody tr th {\n",
       "        vertical-align: top;\n",
       "    }\n",
       "\n",
       "    .dataframe thead th {\n",
       "        text-align: right;\n",
       "    }\n",
       "</style>\n",
       "<table border=\"1\" class=\"dataframe\">\n",
       "  <thead>\n",
       "    <tr style=\"text-align: right;\">\n",
       "      <th></th>\n",
       "      <th>movieId</th>\n",
       "      <th>genres</th>\n",
       "      <th>rating</th>\n",
       "      <th>year</th>\n",
       "    </tr>\n",
       "  </thead>\n",
       "  <tbody>\n",
       "    <tr>\n",
       "      <th>4616</th>\n",
       "      <td>6</td>\n",
       "      <td>Action|Crime|Thriller</td>\n",
       "      <td>3.0</td>\n",
       "      <td>1998</td>\n",
       "    </tr>\n",
       "    <tr>\n",
       "      <th>4617</th>\n",
       "      <td>6</td>\n",
       "      <td>Action|Crime|Thriller</td>\n",
       "      <td>4.0</td>\n",
       "      <td>1999</td>\n",
       "    </tr>\n",
       "    <tr>\n",
       "      <th>4618</th>\n",
       "      <td>6</td>\n",
       "      <td>Action|Crime|Thriller</td>\n",
       "      <td>4.0</td>\n",
       "      <td>1999</td>\n",
       "    </tr>\n",
       "    <tr>\n",
       "      <th>4619</th>\n",
       "      <td>6</td>\n",
       "      <td>Action|Crime|Thriller</td>\n",
       "      <td>5.0</td>\n",
       "      <td>1996</td>\n",
       "    </tr>\n",
       "    <tr>\n",
       "      <th>4620</th>\n",
       "      <td>6</td>\n",
       "      <td>Action|Crime|Thriller</td>\n",
       "      <td>4.0</td>\n",
       "      <td>2001</td>\n",
       "    </tr>\n",
       "    <tr>\n",
       "      <th>...</th>\n",
       "      <td>...</td>\n",
       "      <td>...</td>\n",
       "      <td>...</td>\n",
       "      <td>...</td>\n",
       "    </tr>\n",
       "    <tr>\n",
       "      <th>1048549</th>\n",
       "      <td>207023</td>\n",
       "      <td>Action|Crime|Mystery|Thriller</td>\n",
       "      <td>2.5</td>\n",
       "      <td>2019</td>\n",
       "    </tr>\n",
       "    <tr>\n",
       "      <th>1048564</th>\n",
       "      <td>207642</td>\n",
       "      <td>Action|Drama|Romance</td>\n",
       "      <td>5.0</td>\n",
       "      <td>2019</td>\n",
       "    </tr>\n",
       "    <tr>\n",
       "      <th>1048565</th>\n",
       "      <td>207830</td>\n",
       "      <td>Action|Sci-Fi</td>\n",
       "      <td>4.0</td>\n",
       "      <td>2019</td>\n",
       "    </tr>\n",
       "    <tr>\n",
       "      <th>1048566</th>\n",
       "      <td>207830</td>\n",
       "      <td>Action|Sci-Fi</td>\n",
       "      <td>3.0</td>\n",
       "      <td>2019</td>\n",
       "    </tr>\n",
       "    <tr>\n",
       "      <th>1048571</th>\n",
       "      <td>208737</td>\n",
       "      <td>Action|Drama|War</td>\n",
       "      <td>3.5</td>\n",
       "      <td>2019</td>\n",
       "    </tr>\n",
       "  </tbody>\n",
       "</table>\n",
       "<p>312990 rows × 4 columns</p>\n",
       "</div>"
      ],
      "text/plain": [
       "         movieId                         genres  rating  year\n",
       "4616           6          Action|Crime|Thriller     3.0  1998\n",
       "4617           6          Action|Crime|Thriller     4.0  1999\n",
       "4618           6          Action|Crime|Thriller     4.0  1999\n",
       "4619           6          Action|Crime|Thriller     5.0  1996\n",
       "4620           6          Action|Crime|Thriller     4.0  2001\n",
       "...          ...                            ...     ...   ...\n",
       "1048549   207023  Action|Crime|Mystery|Thriller     2.5  2019\n",
       "1048564   207642           Action|Drama|Romance     5.0  2019\n",
       "1048565   207830                  Action|Sci-Fi     4.0  2019\n",
       "1048566   207830                  Action|Sci-Fi     3.0  2019\n",
       "1048571   208737               Action|Drama|War     3.5  2019\n",
       "\n",
       "[312990 rows x 4 columns]"
      ]
     },
     "execution_count": 21,
     "metadata": {},
     "output_type": "execute_result"
    }
   ],
   "source": [
    "merged_data[merged_data['genres'].str.contains('Action')]"
   ]
  },
  {
   "cell_type": "markdown",
   "metadata": {},
   "source": [
    "Now that we have all genres available, lets sort out merged dataframe with filters of the available genres.\n",
    "Available genres in the dataset are:\n",
    "\n",
    "**Action  |  Adventure  |  Comedy  |  Crime  |  Drama  |  Film-Noir  |  Horror  |  Mystery  |  Thriller  |  Western\t*\n"
   ]
  },
  {
   "cell_type": "code",
   "execution_count": 22,
   "metadata": {},
   "outputs": [],
   "source": [
    "def annual_mean_rating(col):\n",
    "    result_array = []\n",
    "    for i in col:   \n",
    "        result_array.append((merged_data[merged_data['year'] == i].rating.mean()))\n",
    "    return result_array"
   ]
  },
  {
   "cell_type": "code",
   "execution_count": 23,
   "metadata": {
    "scrolled": false
   },
   "outputs": [],
   "source": [
    "#creating fileter for genre  'Action'\n",
    "Action_years = np.asarray(merged_data.year[merged_data['genres'].str.contains('Action')].unique())\n",
    "Action_rating = np.asarray(annual_mean_rating(Action_years))"
   ]
  },
  {
   "cell_type": "code",
   "execution_count": 24,
   "metadata": {},
   "outputs": [],
   "source": [
    "#creating fileter for genre  'Adventure'\n",
    "Adventure_years = np.asarray(merged_data.year[merged_data['genres'].str.contains('Adventure')].unique())\n",
    "Adventure_rating = np.asarray(annual_mean_rating(Adventure_years))"
   ]
  },
  {
   "cell_type": "code",
   "execution_count": 25,
   "metadata": {},
   "outputs": [],
   "source": [
    "#creating fileter for genre  'Comedy'\n",
    "Comedy_years = np.asarray(merged_data.year[merged_data['genres'].str.contains('Comedy')].unique())\n",
    "Comedy_rating = np.asarray(annual_mean_rating(Comedy_years))"
   ]
  },
  {
   "cell_type": "code",
   "execution_count": 26,
   "metadata": {},
   "outputs": [],
   "source": [
    "#creating fileter for genre  'Crime'\n",
    "Crime_years = np.asarray(merged_data.year[merged_data['genres'].str.contains('Crime')].unique())\n",
    "Crime_rating = np.asarray(annual_mean_rating(Crime_years))"
   ]
  },
  {
   "cell_type": "code",
   "execution_count": 27,
   "metadata": {},
   "outputs": [],
   "source": [
    "#creating fileter for genre  'Drama'\n",
    "Drama_years = np.asarray(merged_data.year[merged_data['genres'].str.contains('Drama')].unique())\n",
    "Drama_rating = np.asarray(annual_mean_rating(Drama_years))"
   ]
  },
  {
   "cell_type": "code",
   "execution_count": 28,
   "metadata": {},
   "outputs": [],
   "source": [
    "#creating fileter for genre  'Film-Noir'\n",
    "Film_Noir_years = np.asarray(merged_data.year[merged_data['genres'].str.contains('Film-Noir')].unique())\n",
    "Film_Noir_rating = np.asarray(annual_mean_rating(Film_Noir_years))"
   ]
  },
  {
   "cell_type": "code",
   "execution_count": 29,
   "metadata": {},
   "outputs": [],
   "source": [
    "#creating fileter for genre  'Horror'\n",
    "Horror_years = np.asarray(merged_data.year[merged_data['genres'].str.contains('Horror')].unique())\n",
    "Horror_rating = np.asarray(annual_mean_rating(Horror_years))"
   ]
  },
  {
   "cell_type": "code",
   "execution_count": 30,
   "metadata": {},
   "outputs": [],
   "source": [
    "#creating fileter for genre  'Mystery'\n",
    "Mystery_years = np.asarray(merged_data.year[merged_data['genres'].str.contains('Mystery')].unique())\n",
    "Mystery_rating = np.asarray(annual_mean_rating(Mystery_years))"
   ]
  },
  {
   "cell_type": "code",
   "execution_count": 31,
   "metadata": {},
   "outputs": [],
   "source": [
    "#creating fileter for genre 'Thriller'\n",
    "Thriller_years = np.asarray(merged_data.year[merged_data['genres'].str.contains('Thriller')].unique())\n",
    "Thriller_rating = np.asarray(annual_mean_rating(Thriller_years))"
   ]
  },
  {
   "cell_type": "code",
   "execution_count": 32,
   "metadata": {},
   "outputs": [],
   "source": [
    "#creating fileter for genre  'Western'\n",
    "Western_years = np.asarray(merged_data.year[merged_data['genres'].str.contains('Western')].unique())\n",
    "Western_rating = np.asarray(annual_mean_rating(Western_years))"
   ]
  },
  {
   "cell_type": "markdown",
   "metadata": {},
   "source": [
    "Now that we have our final dataframe and all genres available, Lets plot them to see how they standout to eachother witing the max and min years of the dataset."
   ]
  },
  {
   "cell_type": "code",
   "execution_count": 33,
   "metadata": {},
   "outputs": [
    {
     "data": {
      "image/png": "[encoded data removed]",
      "text/plain": [
       "<Figure size 432x288 with 1 Axes>"
      ]
     },
     "metadata": {
      "needs_background": "light"
     },
     "output_type": "display_data"
    }
   ],
   "source": [
    "plt.bar(Action_years, Action_rating, color ='g') \n",
    "plt.xlabel('Years')\n",
    "plt.ylabel('Rating of Action movies')\n",
    "plt.title('Genres over the years')\n",
    "# to make more honest, start they y axis at 0\n",
    "plt.axis([1995, 2020,0,6])\n",
    "plt.grid(True)\n",
    "plt.show()"
   ]
  },
  {
   "cell_type": "code",
   "execution_count": 34,
   "metadata": {},
   "outputs": [
    {
     "data": {
      "image/png": "[encoded data removed]",
      "text/plain": [
       "<Figure size 432x288 with 1 Axes>"
      ]
     },
     "metadata": {
      "needs_background": "light"
     },
     "output_type": "display_data"
    }
   ],
   "source": [
    "plt.bar(Adventure_years, Adventure_rating, color ='k') \n",
    "plt.xlabel('Years')\n",
    "plt.ylabel('Rating of Adventure movies')\n",
    "plt.title('Genres over the years')\n",
    "# to make more honest, start they y axis at 0\n",
    "plt.axis([1995, 2020,0,6])\n",
    "plt.grid(True)\n",
    "plt.show()"
   ]
  },
  {
   "cell_type": "code",
   "execution_count": 35,
   "metadata": {},
   "outputs": [
    {
     "data": {
      "image/png": "[encoded data removed]",
      "text/plain": [
       "<Figure size 432x288 with 1 Axes>"
      ]
     },
     "metadata": {
      "needs_background": "light"
     },
     "output_type": "display_data"
    }
   ],
   "source": [
    "plt.bar(Comedy_years, Comedy_rating, color ='b')\n",
    "plt.xlabel('Years')\n",
    "plt.ylabel('Rating of Comedy movies')\n",
    "plt.title('Genres over the years')\n",
    "# to make more honest, start they y axis at 0\n",
    "plt.axis([1995, 2020,0,6])\n",
    "plt.grid(True)\n",
    "plt.show()"
   ]
  },
  {
   "cell_type": "code",
   "execution_count": 36,
   "metadata": {},
   "outputs": [
    {
     "data": {
      "image/png": "[encoded data removed]",
      "text/plain": [
       "<Figure size 432x288 with 1 Axes>"
      ]
     },
     "metadata": {
      "needs_background": "light"
     },
     "output_type": "display_data"
    }
   ],
   "source": [
    "plt.bar(Crime_years, Crime_rating, color ='y')\n",
    "plt.xlabel('Years')\n",
    "plt.ylabel('Rating of Crime movies')\n",
    "plt.title('Genres over the years')\n",
    "# to make more honest, start they y axis at 0\n",
    "plt.axis([1995, 2020,0,6])\n",
    "plt.grid(True)\n",
    "plt.show()"
   ]
  },
  {
   "cell_type": "code",
   "execution_count": 37,
   "metadata": {},
   "outputs": [
    {
     "data": {
      "image/png": "[encoded data removed]",
      "text/plain": [
       "<Figure size 432x288 with 1 Axes>"
      ]
     },
     "metadata": {
      "needs_background": "light"
     },
     "output_type": "display_data"
    }
   ],
   "source": [
    "plt.bar(Drama_years, Drama_rating, color ='c')\n",
    "plt.xlabel('Years')\n",
    "plt.ylabel('Rating of Drama movies')\n",
    "plt.title('Genres over the years')\n",
    "# to make more honest, start they y axis at 0\n",
    "plt.axis([1995, 2020,0,6])\n",
    "plt.grid(True)\n",
    "plt.show()"
   ]
  },
  {
   "cell_type": "code",
   "execution_count": 38,
   "metadata": {},
   "outputs": [
    {
     "data": {
      "image/png": "[encoded data removed]",
      "text/plain": [
       "<Figure size 432x288 with 1 Axes>"
      ]
     },
     "metadata": {
      "needs_background": "light"
     },
     "output_type": "display_data"
    }
   ],
   "source": [
    "plt.bar(Film_Noir_years, Film_Noir_rating, color ='m')\n",
    "plt.xlabel('Years')\n",
    "plt.ylabel('Rating of Film-Noir movies')\n",
    "plt.title('Genres over the years')\n",
    "# to make more honest, start they y axis at 0\n",
    "plt.axis([1995, 2020,0,6])\n",
    "plt.grid(True)\n",
    "plt.show()"
   ]
  },
  {
   "cell_type": "code",
   "execution_count": 39,
   "metadata": {},
   "outputs": [
    {
     "data": {
      "image/png": "[encoded data removed]",
      "text/plain": [
       "<Figure size 432x288 with 1 Axes>"
      ]
     },
     "metadata": {
      "needs_background": "light"
     },
     "output_type": "display_data"
    }
   ],
   "source": [
    "plt.bar(Horror_years, Horror_rating, color ='r')\n",
    "plt.xlabel('Years')\n",
    "plt.ylabel('Rating of Horror movies')\n",
    "plt.title('Genres over the years')\n",
    "# to make more honest, start they y axis at 0\n",
    "plt.axis([1995, 2020,0,6])\n",
    "plt.grid(True)\n",
    "plt.show()"
   ]
  },
  {
   "cell_type": "code",
   "execution_count": 40,
   "metadata": {},
   "outputs": [
    {
     "data": {
      "image/png": "[encoded data removed]",
      "text/plain": [
       "<Figure size 432x288 with 1 Axes>"
      ]
     },
     "metadata": {
      "needs_background": "light"
     },
     "output_type": "display_data"
    }
   ],
   "source": [
    "plt.bar(Mystery_years, Mystery_rating, color ='b')\n",
    "plt.xlabel('Years')\n",
    "plt.ylabel('Rating of Mystery movies')\n",
    "plt.title('Genres over the years')\n",
    "# to make more honest, start they y axis at 0\n",
    "plt.axis([1995, 2020,0,6])\n",
    "plt.grid(True)\n",
    "plt.show()"
   ]
  },
  {
   "cell_type": "code",
   "execution_count": 41,
   "metadata": {},
   "outputs": [
    {
     "data": {
      "image/png": "[encoded data removed]",
      "text/plain": [
       "<Figure size 432x288 with 1 Axes>"
      ]
     },
     "metadata": {
      "needs_background": "light"
     },
     "output_type": "display_data"
    }
   ],
   "source": [
    "plt.bar(Thriller_years, Thriller_rating, color ='k')\n",
    "plt.xlabel('Years')\n",
    "plt.ylabel('Rating of Thriller movies')\n",
    "plt.title('Genres over the years')\n",
    "# to make more honest, start they y axis at 0\n",
    "plt.axis([1995, 2020,0,6])\n",
    "plt.grid(True)\n",
    "plt.show()"
   ]
  },
  {
   "cell_type": "code",
   "execution_count": 42,
   "metadata": {},
   "outputs": [
    {
     "data": {
      "image/png": "[encoded data removed]",
      "text/plain": [
       "<Figure size 432x288 with 1 Axes>"
      ]
     },
     "metadata": {
      "needs_background": "light"
     },
     "output_type": "display_data"
    }
   ],
   "source": [
    "plt.bar(Western_years, Western_rating, color ='g')\n",
    "plt.xlabel('Years')\n",
    "plt.ylabel('Rating of Western movies')\n",
    "plt.title('Genres over the years')\n",
    "# to make more honest, start they y axis at 0\n",
    "plt.axis([1995, 2020,0,6])\n",
    "plt.grid(True)\n",
    "plt.show()"
   ]
  },
  {
   "cell_type": "code",
   "execution_count": 43,
   "metadata": {},
   "outputs": [],
   "source": [
    "#performance = [Action_rating,Adventure_rating,Comedy_rating,Crime_rating,Drama_rating,Film_Noir_rating,Horror_rating,Mystery_rating,Thriller_rating,Western_rating]\n",
    "# the histogram of the data\n",
    "#plt.hist(performance, 10, density=True, facecolor='m')\n",
    "\n",
    "#plt.xlabel('Year')\n",
    "#plt.ylabel('Average rating')\n",
    "#plt.title('Average Rating of Genres over the years')\n",
    "#plt.axis([1995, 2020,0,6])\n",
    "#plt.grid(True)\n",
    "#print(performance)\n",
    "#plt.show()"
   ]
  },
  {
   "cell_type": "markdown",
   "metadata": {},
   "source": [
    "As we can see that the general trend for all the given genres for the period of time between 1995 and 2020 were almost same, hence we can conclude that no specific type of genre gained popularity."
   ]
  },
  {
   "cell_type": "code",
   "execution_count": null,
   "metadata": {},
   "outputs": [],
   "source": []
  }
 ],
 "metadata": {
  "kernelspec": {
   "display_name": "Python 3",
   "language": "python",
   "name": "python3"
  },
  "language_info": {
   "codemirror_mode": {
    "name": "ipython",
    "version": 3
   },
   "file_extension": ".py",
   "mimetype": "text/x-python",
   "name": "python",
   "nbconvert_exporter": "python",
   "pygments_lexer": "ipython3",
   "version": "3.8.1"
  }
 },
 "nbformat": 4,
 "nbformat_minor": 1
}
